{
  "nbformat": 4,
  "nbformat_minor": 0,
  "metadata": {
    "colab": {
      "provenance": [],
      "toc_visible": true,
      "name": "gemini_startup_school.ipynb",
      "include_colab_link": true
    },
    "kernelspec": {
      "name": "python3",
      "display_name": "Python 3"
    },
    "language_info": {
      "name": "python"
    }
  },
  "cells": [
    {
      "cell_type": "markdown",
      "metadata": {
        "id": "view-in-github",
        "colab_type": "text"
      },
      "source": [
        "<a href=\"https://colab.research.google.com/github/sdarive/generative-ai/blob/main/gemini_startup_school.ipynb\" target=\"_parent\"><img src=\"https://colab.research.google.com/assets/colab-badge.svg\" alt=\"Open In Colab\"/></a>"
      ]
    },
    {
      "cell_type": "markdown",
      "source": [
        "# Welcome to [Goo.gle/LuisLab](https://goo.gle/LuisLab)"
      ],
      "metadata": {
        "id": "dr6Jyich2Ysh"
      }
    },
    {
      "cell_type": "markdown",
      "source": [
        "# 1.0 - INTRODUCTION\n",
        "\n",
        "This Colab notebook serves as a launching point, or \"portal\" into other Colab notebooks designed to demonstrate how to develop with Google's generative AI technologies, such as Gemini.\n",
        "\n",
        "---"
      ],
      "metadata": {
        "id": "PsaarprYw0XO"
      }
    },
    {
      "cell_type": "markdown",
      "source": [
        "\n",
        "## **Notebook 1:** [Intro to Gemini Development](https://colab.research.google.com/gist/LuisSala/21780fb665f38de202f014718ae6cab5/gemini_basics.ipynb)\n",
        "[This notebook](https://colab.research.google.com/gist/LuisSala/21780fb665f38de202f014718ae6cab5/gemini_basics.ipynb) offers a comprehensive review of the [Google GenAI SDK](https://googleapis.github.io/python-genai/index.html) by demonstrating features such as:\n",
        "* Model Invocation\n",
        "* Multimodality\n",
        "* Function Calling\n",
        "* Structured Outputs\n",
        "* Alternate SDKs\n",
        "* Basic Agents\n",
        "\n",
        "A video recording presenting this notebook may be found [here](https://cloudonair.withgoogle.com/events/startup-school-ai-q1-2025/watch?talk=emea-amer-week1-session1). Note: Registration required.\n",
        "\n",
        "---"
      ],
      "metadata": {
        "id": "4-HsvLbgJGh7"
      }
    },
    {
      "cell_type": "markdown",
      "source": [
        "## **Notebook 2:** [Agentic Gemini Basics](https://colab.research.google.com/gist/LuisSala/3542b7f36e6c7fbe5ab4e3f138997c29/gemini_agentic_basics.ipynb)\n",
        "[This notebook](https://colab.research.google.com/gist/LuisSala/3542b7f36e6c7fbe5ab4e3f138997c29/gemini_agentic_basics.ipynb) demonstrates the foundational concepts of agents without relying on abstractions. The idea being that the reader can try to understand \"how the engine words\" before \"building the car around it\".\n",
        "\n",
        "We apply the basic buildin blocks of model calling and structured outputs to build a sequential workflow-style agent and then a non-deterministic \"research\" agent\" using nothing more than the core [Google GenAI SDK](https://googleapis.github.io/python-genai/index.html).\n",
        "\n",
        "---"
      ],
      "metadata": {
        "id": "cv-CuY3yJNWu"
      }
    },
    {
      "cell_type": "markdown",
      "source": [
        "# 2.0 - ADDITIONAL RESOURCES\n",
        "\n",
        "## SDKs:\n",
        "\n",
        "\n",
        "*   [Google GenAI SDK](https://googleapis.github.io/python-genai/)\n",
        "*   [Google Agent Development Kit (ADK)](https://google.github.io/adk-docs/)\n",
        "\n",
        "\n",
        "\n",
        "## Gemini Code Samples\n",
        "- Gemini Cookbook: https://github.com/google-gemini/cookbook\n",
        "- Google Cloud Generative AI: https://github.com/GoogleCloudPlatform/generative-ai\n",
        "- Google Cloud Applied AI Engineering: https://github.com/GoogleCloudPlatform/applied-ai-engineering-samples\n",
        "\n",
        "---\n",
        "---\n",
        "## Andrej Karpathy's YouTube Video Series\n",
        "Andrej Karpathy is a computer scientist specializing in AI, deep learning, and neural networks. Born in 1986, he holds a Ph.D. from Stanford, where he also created the CS 231n deep learning course. Karpathy was a founding member of OpenAI and served as Director of AI at Tesla, leading the Autopilot computer vision team. In 2024, he founded Eureka Labs, an AI education company.\n",
        "\n",
        "### Video 1: [Dive Deep Into LLMs](https://youtu.be/7xTGNNLPyMI)\n",
        "**URL:** https://youtu.be/7xTGNNLPyMI\n",
        "\n",
        "This thorough deep dive explains LLMs starting with pre-training, fine-tuning, and ending reinforcement learning while keeping the math to an absolute minimum. The insights presented in this video will help you optimize and maximize the value of your LLM projects.\n",
        "\n",
        "### Video 2: [Neural Networks: Zero to Hero](https://www.youtube.com/playlist?list=PLAqhIrjkxbuWI23v9cThsA9GvCAUhRvKZ)\n",
        "**URL:** https://www.youtube.com/playlist?list=PLAqhIrjkxbuWI23v9cThsA9GvCAUhRvKZ\n",
        "\n",
        "This playlist covers many topics in machine learning and LLMs,including a 2-hour video titled \"[Let's build GPT: from scratch, in code, spelled out.](https://youtu.be/kCc8FmEb1nY)\" which walks developers through the process of building a basic GPT-style model.\n",
        "\n",
        "\n",
        "\n"
      ],
      "metadata": {
        "id": "7ggGGwa6tSHr"
      }
    },
    {
      "cell_type": "markdown",
      "source": [
        "## Google Cloud Skills Boost\n",
        "**Note:** Sessions marked with an asterisk (*) make use of an older Vertex AI / Gemini Software Development Kit (SDK). Although different from the newer Gemini 2.0 SDk, this older SDK will continue to function and be supported. The concepts taught in these older labs are still applicable to Gemini 2.0.\n",
        "\n",
        "* [Intro to Gemini 2.0 Flash](https://www.cloudskillsboost.google/focuses/115001)\n",
        "* [Getting Started with the Gemini 2.0 Flash Thinking Model](https://www.cloudskillsboost.google/focuses/115003)\n",
        "* [Intro to Generating and Executing Python Code with Gemini 2.0](https://www.cloudskillsboost.google/focuses/115247)\n",
        "* [Introduction to Function Calling with Gemini](https://www.cloudskillsboost.google/focuses/85993)*\n",
        "* [Document Processing with Gemini](https://www.cloudskillsboost.google/focuses/109484)*\n",
        "* [Multimodality with Gemini](https://www.cloudskillsboost.google/focuses/83266)*\n",
        "* [Develop GenAI Apps with Gemini and Streamlit](https://www.cloudskillsboost.google/course_templates/978)*\n",
        "* [Develop an app with Gemini](https://www.cloudskillsboost.google/focuses/90769)*\n",
        "\n",
        "\n",
        "### Cloud Skills Boost Challenge Labs\n",
        "In a challenge lab you’re given a scenario and a set of tasks. Instead of following step-by-step instructions, you will use the skills learned from the labs in the course to figure out how to complete the tasks on your own!\n",
        "\n",
        "When you take a challenge lab, you will not be taught new Google Cloud concepts. You are expected to extend your learned skills, like changing default values and reading and researching error messages to fix your own mistakes.\n",
        "\n",
        "* [Explore Generative AI with the Gemini API in Vertex AI: Challenge Lab](https://www.cloudskillsboost.google/focuses/85653)\n",
        "* [Prompt Design in Vertex AI: Challenge Lab](https://www.cloudskillsboost.google/focuses/86473)\n",
        "\n",
        "### Additional GenAI Samples\n",
        "* [Chirp 3 Notebook](https://colab.research.google.com/github/GoogleCloudPlatform/generative-ai/blob/main/audio/speech/getting-started/get_started_with_chirp_3_hd_voices.ipynb)"
      ],
      "metadata": {
        "id": "9ThUdpC0d8_n"
      }
    },
    {
      "cell_type": "code",
      "source": [],
      "metadata": {
        "id": "K8tRsKsJIKCC"
      },
      "execution_count": null,
      "outputs": []
    }
  ]
}